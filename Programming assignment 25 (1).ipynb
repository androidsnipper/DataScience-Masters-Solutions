{
 "cells": [
  {
   "cell_type": "markdown",
   "id": "ab533546",
   "metadata": {},
   "source": [
    "public boolean atLeastThreeMatch(int a, int b, int c, int d) {\n",
    "    List<Integer> values = Arrays.asList(a, b, c, d);\n",
    "    Set<Integer> counter = new HashSet<Integer>();\n",
    "    counter.addAll(values);\n",
    "    if(counter.size() <=2){\n",
    "        return true;\n",
    "    } else {\n",
    "        return false;\n",
    "    }\n",
    "}"
   ]
  },
  {
   "cell_type": "code",
   "execution_count": 1,
   "id": "c4aff7ed",
   "metadata": {},
   "outputs": [
    {
     "data": {
      "text/plain": [
       "[('a', 1), ('b', 2), ('c', 3)]"
      ]
     },
     "execution_count": 1,
     "metadata": {},
     "output_type": "execute_result"
    }
   ],
   "source": [
    "d = { 'a': 1, 'b': 2, 'c': 3 }\n",
    "list(d.items())"
   ]
  },
  {
   "cell_type": "markdown",
   "id": "5a22b454",
   "metadata": {},
   "source": [
    "import string\n",
    ">>> from collections import OrderedDict\n",
    ">>> OrderedDict(zip(string.ascii_lowercase, range(1,27)))\n",
    "OrderedDict([('a', 1), ('b', 2), ('c', 3), ('d', 4), ('e', 5), ('f', 6), ('g', 7), ('h', 8), ('i', 9), ('j', 10), ('k', 11), ('l', 12), ('m', 13), ('n', 14), ('o', 15), ('p', 16), ('q', 17), ('r', 18), ('s', 19), ('t', 20), ('u', 21), ('v', 22), ('w', 23), ('x', 24), ('y', 25), ('z', 26)])"
   ]
  },
  {
   "cell_type": "code",
   "execution_count": 2,
   "id": "4025382f",
   "metadata": {},
   "outputs": [
    {
     "name": "stdout",
     "output_type": "stream",
     "text": [
      "Given Sting: Geeks for Geeks\n",
      "Given Specified Character: #\n",
      "After replacing vowels with the specified character: G##ks f#r G##ks\n"
     ]
    }
   ],
   "source": [
    "# Function to Replace each vowel in\n",
    "# the string with a specified character\n",
    "def replaceVowelsWithK(test_str, K):\n",
    "\n",
    "\t# string of vowels\n",
    "\tvowels = 'AEIOUaeiou'\n",
    "\n",
    "\t# iterating to check vowels in string\n",
    "\tfor ele in vowels:\n",
    "\n",
    "\t\t# replacing vowel with the specified character\n",
    "\t\ttest_str = test_str.replace(ele, K)\n",
    "\n",
    "\treturn test_str\n",
    "\n",
    "\n",
    "\n",
    "# Driver Code\n",
    "# input string\n",
    "input_str = \"Geeks for Geeks\"\n",
    "\n",
    "# specified character\n",
    "K = \"#\"\n",
    "\n",
    "# printing input\n",
    "print(\"Given Sting:\", input_str)\n",
    "print(\"Given Specified Character:\", K)\n",
    "\n",
    "# printing output\n",
    "print(\"After replacing vowels with the specified character:\",\n",
    "\treplaceVowelsWithK(input_str, K))\n"
   ]
  },
  {
   "cell_type": "code",
   "execution_count": 3,
   "id": "6f4b4cb4",
   "metadata": {},
   "outputs": [
    {
     "name": "stdout",
     "output_type": "stream",
     "text": [
      "The ASCII value of 'p' is 112\n"
     ]
    }
   ],
   "source": [
    "# Program to find the ASCII value of the given character\n",
    "\n",
    "c = 'p'\n",
    "print(\"The ASCII value of '\" + c + \"' is\", ord(c))\n"
   ]
  },
  {
   "cell_type": "code",
   "execution_count": null,
   "id": "0f0f2b72",
   "metadata": {},
   "outputs": [],
   "source": []
  }
 ],
 "metadata": {
  "kernelspec": {
   "display_name": "Python 3 (ipykernel)",
   "language": "python",
   "name": "python3"
  },
  "language_info": {
   "codemirror_mode": {
    "name": "ipython",
    "version": 3
   },
   "file_extension": ".py",
   "mimetype": "text/x-python",
   "name": "python",
   "nbconvert_exporter": "python",
   "pygments_lexer": "ipython3",
   "version": "3.9.7"
  }
 },
 "nbformat": 4,
 "nbformat_minor": 5
}
