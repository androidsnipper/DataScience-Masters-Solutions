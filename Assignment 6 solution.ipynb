{
 "cells": [
  {
   "cell_type": "code",
   "execution_count": null,
   "id": "4f479fe4",
   "metadata": {},
   "outputs": [],
   "source": []
  },
  {
   "cell_type": "markdown",
   "id": "39ec77c0",
   "metadata": {},
   "source": [
    "Escape Sequence\tDescription\n",
    "\\newline\tBackslash and newline ignored\n",
    "\\\\\tBackslash\n",
    "\\'\tSingle quote\n",
    "\\\"\tDouble quote\n",
    "\\a\tASCII Bell\n",
    "\\b\tASCII Backspace\n",
    "\\f\tASCII Formfeed\n",
    "\\n\tASCII Linefeed\n",
    "\\r\tASCII Carriage Return\n",
    "\\t\tASCII Horizontal Tab\n",
    "\\v\tASCII Vertical Tab\n",
    "\\ooo\tCharacter with octal value ooo\n",
    "\\xHH\tCharacter with hexadecimal value HH"
   ]
  },
  {
   "cell_type": "code",
   "execution_count": null,
   "id": "a03f1fff",
   "metadata": {},
   "outputs": [],
   "source": []
  },
  {
   "cell_type": "markdown",
   "id": "8596c534",
   "metadata": {},
   "source": [
    "An escape sequence starts with a backslash and is interpreted differently. If we use a single quote to represent a string, all the single quotes inside the string must be escaped. Similar is the case with double quotes. Here is how it can be done to represent the above text."
   ]
  },
  {
   "cell_type": "code",
   "execution_count": null,
   "id": "24aa08bf",
   "metadata": {},
   "outputs": [],
   "source": []
  },
  {
   "cell_type": "markdown",
   "id": "5a31a4db",
   "metadata": {},
   "source": [
    "The backslash (\"\\\") character is a special escape character used to indicate other special characters such as new lines (\\n), tabs (\\t), or quotation marks (\\\").\n",
    "\n",
    "If you want to include a backslash character itself, you need two backslashes or use the @ verbatim string:\n",
    "\n",
    "var s = \"\\\\Tasks\";\n",
    "// or \n",
    "var s = @\"\\Tasks\";"
   ]
  },
  {
   "cell_type": "code",
   "execution_count": null,
   "id": "3453487c",
   "metadata": {},
   "outputs": [],
   "source": []
  },
  {
   "cell_type": "markdown",
   "id": "8a7e1a26",
   "metadata": {},
   "source": [
    "str = \"'Howl's Moving Castle\";\n",
    "Thsi single quote is not an escape sequence"
   ]
  },
  {
   "cell_type": "code",
   "execution_count": 6,
   "id": "f39d06fb",
   "metadata": {},
   "outputs": [
    {
     "name": "stdout",
     "output_type": "stream",
     "text": [
      "geeks\n",
      "geeksforgeeks\n",
      "1\n",
      "2\n",
      "3\n",
      "4\n"
     ]
    }
   ],
   "source": [
    "# Python 2 code for printing\n",
    "# on the same line printing\n",
    "# geeks and geeksforgeeks\n",
    "# in the same line\n",
    "\n",
    "print(\"geeks\"),\n",
    "print(\"geeksforgeeks\")\n",
    "\n",
    "# array\n",
    "a = [1, 2, 3, 4]\n",
    "\n",
    "# printing a element in same\n",
    "# line\n",
    "for i in range(4):\n",
    "\tprint(a[i])\n"
   ]
  },
  {
   "cell_type": "code",
   "execution_count": 9,
   "id": "c959584a",
   "metadata": {},
   "outputs": [
    {
     "data": {
      "text/plain": [
       "'e'"
      ]
     },
     "execution_count": 9,
     "metadata": {},
     "output_type": "execute_result"
    }
   ],
   "source": [
    "'Hello, world!'[1]\n"
   ]
  },
  {
   "cell_type": "code",
   "execution_count": 10,
   "id": "99e3c3da",
   "metadata": {},
   "outputs": [],
   "source": [
    "b='Hello, world!'[0:5]\n"
   ]
  },
  {
   "cell_type": "code",
   "execution_count": 11,
   "id": "3944033b",
   "metadata": {},
   "outputs": [
    {
     "data": {
      "text/plain": [
       "'Hello'"
      ]
     },
     "execution_count": 11,
     "metadata": {},
     "output_type": "execute_result"
    }
   ],
   "source": [
    "'Hello, world!'[:5]"
   ]
  },
  {
   "cell_type": "code",
   "execution_count": 12,
   "id": "b34524ea",
   "metadata": {},
   "outputs": [],
   "source": [
    "d='Hello, world!'[3:]"
   ]
  },
  {
   "cell_type": "code",
   "execution_count": 13,
   "id": "c74fb780",
   "metadata": {},
   "outputs": [
    {
     "data": {
      "text/plain": [
       "'HELLO'"
      ]
     },
     "execution_count": 13,
     "metadata": {},
     "output_type": "execute_result"
    }
   ],
   "source": [
    "'Hello'.upper()\n",
    "\n"
   ]
  },
  {
   "cell_type": "code",
   "execution_count": 14,
   "id": "96e95cb8",
   "metadata": {},
   "outputs": [
    {
     "data": {
      "text/plain": [
       "True"
      ]
     },
     "execution_count": 14,
     "metadata": {},
     "output_type": "execute_result"
    }
   ],
   "source": [
    "'Hello'.upper().isupper()"
   ]
  },
  {
   "cell_type": "code",
   "execution_count": 15,
   "id": "e5e5f9f1",
   "metadata": {},
   "outputs": [
    {
     "data": {
      "text/plain": [
       "'hello'"
      ]
     },
     "execution_count": 15,
     "metadata": {},
     "output_type": "execute_result"
    }
   ],
   "source": [
    "'Hello'.upper().lower()"
   ]
  },
  {
   "cell_type": "code",
   "execution_count": 16,
   "id": "69892206",
   "metadata": {},
   "outputs": [
    {
     "data": {
      "text/plain": [
       "'There-can-only-one.'"
      ]
     },
     "execution_count": 16,
     "metadata": {},
     "output_type": "execute_result"
    }
   ],
   "source": [
    "'Remember, remember, the fifth of July.'.split()\n",
    "'-'.join('There can only one.'.split())"
   ]
  },
  {
   "cell_type": "code",
   "execution_count": 17,
   "id": "3f793b8f",
   "metadata": {},
   "outputs": [
    {
     "name": "stdout",
     "output_type": "stream",
     "text": [
      "  cat\n"
     ]
    }
   ],
   "source": [
    "# example string\n",
    "string = 'cat'\n",
    "width = 5\n",
    "\n",
    "# print right justified string\n",
    "print(string.rjust(width))"
   ]
  },
  {
   "cell_type": "code",
   "execution_count": 18,
   "id": "737d7d8f",
   "metadata": {},
   "outputs": [
    {
     "name": "stdout",
     "output_type": "stream",
     "text": [
      "**cat\n"
     ]
    }
   ],
   "source": [
    "# example string\n",
    "string = 'cat'\n",
    "width = 5\n",
    "fillchar = '*'\n",
    "\n",
    "# print right justified string\n",
    "print(string.rjust(width, fillchar))"
   ]
  },
  {
   "cell_type": "code",
   "execution_count": 19,
   "id": "f060aa9d",
   "metadata": {},
   "outputs": [
    {
     "name": "stdout",
     "output_type": "stream",
     "text": [
      "Python\n"
     ]
    }
   ],
   "source": [
    "my_string = \" Python \"\n",
    "\n",
    "print(my_string.strip())"
   ]
  },
  {
   "cell_type": "code",
   "execution_count": null,
   "id": "9072202a",
   "metadata": {},
   "outputs": [],
   "source": []
  }
 ],
 "metadata": {
  "kernelspec": {
   "display_name": "Python 3 (ipykernel)",
   "language": "python",
   "name": "python3"
  },
  "language_info": {
   "codemirror_mode": {
    "name": "ipython",
    "version": 3
   },
   "file_extension": ".py",
   "mimetype": "text/x-python",
   "name": "python",
   "nbconvert_exporter": "python",
   "pygments_lexer": "ipython3",
   "version": "3.9.7"
  }
 },
 "nbformat": 4,
 "nbformat_minor": 5
}
