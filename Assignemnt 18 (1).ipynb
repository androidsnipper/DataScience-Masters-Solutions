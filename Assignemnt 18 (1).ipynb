{
 "cells": [
  {
   "cell_type": "code",
   "execution_count": 1,
   "id": "a2f04c31",
   "metadata": {},
   "outputs": [
    {
     "name": "stdout",
     "output_type": "stream",
     "text": [
      "1\n",
      "2\n",
      "3\n",
      "4\n",
      "5\n",
      "s\n",
      "f\n",
      "g\n",
      "1\n",
      "3\n",
      "15\n",
      "105\n",
      "945\n"
     ]
    },
    {
     "data": {
      "text/plain": [
       "'something for a'"
      ]
     },
     "execution_count": 1,
     "metadata": {},
     "output_type": "execute_result"
    }
   ],
   "source": [
    "import itertools\n",
    "for item in itertools.chain([1,2,3,4,5],['s','f','g']):\n",
    "    print(item)\n",
    "\n",
    "def add_by(a,c):\n",
    "    return a*c\n",
    "\n",
    "for i in itertools.accumulate([1,3,5,7,9],add_by):\n",
    "    print(i)\n",
    "\n",
    "plain = {'a':1,'b':2,'c':3}\n",
    "from collections import OrderedDict\n",
    "fancy = OrderedDict(plain)\n",
    "fancy\n",
    "# 5.7\n",
    "from collections import defaultdict\n",
    "def some():\n",
    "    return 'something for a'\n",
    "\n",
    "dict_of_list = defaultdict(some)\n",
    "dict_of_list['a']"
   ]
  },
  {
   "cell_type": "code",
   "execution_count": null,
   "id": "918daf46",
   "metadata": {},
   "outputs": [],
   "source": []
  }
 ],
 "metadata": {
  "kernelspec": {
   "display_name": "Python 3 (ipykernel)",
   "language": "python",
   "name": "python3"
  },
  "language_info": {
   "codemirror_mode": {
    "name": "ipython",
    "version": 3
   },
   "file_extension": ".py",
   "mimetype": "text/x-python",
   "name": "python",
   "nbconvert_exporter": "python",
   "pygments_lexer": "ipython3",
   "version": "3.9.7"
  }
 },
 "nbformat": 4,
 "nbformat_minor": 5
}
