{
 "cells": [
  {
   "cell_type": "markdown",
   "id": "2f7da1be",
   "metadata": {},
   "source": [
    "Why is PyInputPlus commonly imported with import PyInputPlus as PYIP?\n",
    "You can import the module with import pyinputplus as pyip so that you can enter a shorter name when calling the module's functions. PyInputPlus has functions for entering a variety of input, including strings, numbers, dates, yes/no, True/False, emails, and files."
   ]
  },
  {
   "cell_type": "markdown",
   "id": "b748ef41",
   "metadata": {},
   "source": [
    "no"
   ]
  },
  {
   "cell_type": "markdown",
   "id": "c1980ace",
   "metadata": {},
   "source": [
    "inputInt() : Accepts an integer value. This also takes additional parameters 'min', 'max', 'greaterThan' and 'lessThan' for bounds. Returns an int. inputFloat() : Accepts a floating-point numeric value"
   ]
  },
  {
   "cell_type": "markdown",
   "id": "f4ebd4f1",
   "metadata": {},
   "source": [
    "By using pyip.inputint(min=0, max=99)"
   ]
  },
  {
   "cell_type": "markdown",
   "id": "51383e87",
   "metadata": {},
   "source": [
    "The allowRegexes and blockRegexes Keyword Arguments\n",
    "You can also use regular expressions to specify whether an input is allowed or not. The allowRegexes and blockRegexes keyword arguments take a list of regular expression strings to determine what the PyInputPlus function will accept or reject as valid input. For example, enter the following code into the interactive shell so that inputNum() will accept Roman numerals in addition to the usual numbers:"
   ]
  },
  {
   "cell_type": "markdown",
   "id": "99060ded",
   "metadata": {},
   "source": [
    "It will raise an RetryLimitException"
   ]
  },
  {
   "cell_type": "markdown",
   "id": "adc17cf0",
   "metadata": {},
   "source": [
    "It returns the value N/A to the variable username"
   ]
  },
  {
   "cell_type": "code",
   "execution_count": null,
   "id": "3685fcac",
   "metadata": {},
   "outputs": [],
   "source": []
  }
 ],
 "metadata": {
  "kernelspec": {
   "display_name": "Python 3 (ipykernel)",
   "language": "python",
   "name": "python3"
  },
  "language_info": {
   "codemirror_mode": {
    "name": "ipython",
    "version": 3
   },
   "file_extension": ".py",
   "mimetype": "text/x-python",
   "name": "python",
   "nbconvert_exporter": "python",
   "pygments_lexer": "ipython3",
   "version": "3.9.7"
  }
 },
 "nbformat": 4,
 "nbformat_minor": 5
}
