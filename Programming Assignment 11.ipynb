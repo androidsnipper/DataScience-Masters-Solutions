{
 "cells": [
  {
   "cell_type": "code",
   "execution_count": 1,
   "id": "ead3351b",
   "metadata": {},
   "outputs": [
    {
     "name": "stdout",
     "output_type": "stream",
     "text": [
      "['geek', 'geeks']\n"
     ]
    }
   ],
   "source": [
    "# Python program to find all string\n",
    "# which are greater than given length k\n",
    "\n",
    "# function find string greater than length k\n",
    "def string_k(k, str):\n",
    "\t\n",
    "\t# create the empty string\n",
    "\tstring = []\n",
    "\t\n",
    "\t# split the string where space is comes\n",
    "\ttext = str.split(\" \")\n",
    "\t\n",
    "\t# iterate the loop till every substring\n",
    "\tfor x in text:\n",
    "\t\t\n",
    "\t\t# if length of current sub string\n",
    "\t\t# is greater than k then\n",
    "\t\tif len(x) > k:\n",
    "\t\t\t\n",
    "\t\t\t# append this sub string in\n",
    "\t\t\t# string list\n",
    "\t\t\tstring.append(x)\n",
    "\t\t\t\n",
    "\t# return string list\n",
    "\treturn string\n",
    "\n",
    "\n",
    "# Driver Program\t\n",
    "k = 3\n",
    "str =\"geek for geeks\"\n",
    "print(string_k(k, str))\n"
   ]
  },
  {
   "cell_type": "code",
   "execution_count": 2,
   "id": "6e2b03e0",
   "metadata": {},
   "outputs": [
    {
     "name": "stdout",
     "output_type": "stream",
     "text": [
      "['Python', 'is', 'a', 'fun', 'programming', 'language']\n"
     ]
    }
   ],
   "source": [
    "text = 'Python is a fun programming language'\n",
    "\n",
    "# split the text from space\n",
    "print(text.split(' '))\n",
    "\n",
    "# Output: ['Python', 'is', 'a', 'fun', 'programming', 'language']"
   ]
  },
  {
   "cell_type": "code",
   "execution_count": 3,
   "id": "c3433a6f",
   "metadata": {},
   "outputs": [
    {
     "name": "stdout",
     "output_type": "stream",
     "text": [
      "Yes\n"
     ]
    }
   ],
   "source": [
    "# Python program to check\n",
    "# if a string is binary or not\n",
    "\n",
    "# function for checking the\n",
    "# string is accepted or not\n",
    "def check(string) :\n",
    "\n",
    "\t# set function convert string\n",
    "\t# into set of characters .\n",
    "\tp = set(string)\n",
    "\n",
    "\t# declare set of '0', '1' .\n",
    "\ts = {'0', '1'}\n",
    "\n",
    "\t# check set p is same as set s\n",
    "\t# or set p contains only '0'\n",
    "\t# or set p contains only '1'\n",
    "\t# or not, if any one condition\n",
    "\t# is true then string is accepted\n",
    "\t# otherwise not .\n",
    "\tif s == p or p == {'0'} or p == {'1'}:\n",
    "\t\tprint(\"Yes\")\n",
    "\telse :\n",
    "\t\tprint(\"No\")\n",
    "\n",
    "\n",
    "\t\t\n",
    "# driver code\n",
    "if __name__ == \"__main__\" :\n",
    "\n",
    "\tstring = \"101010000111\"\n",
    "\n",
    "\t# function calling\n",
    "\tcheck(string)\n"
   ]
  },
  {
   "cell_type": "code",
   "execution_count": 4,
   "id": "c3f6d830",
   "metadata": {},
   "outputs": [
    {
     "name": "stdout",
     "output_type": "stream",
     "text": [
      "['Learning', 'from']\n"
     ]
    }
   ],
   "source": [
    "# Python3 program to find a list of uncommon words\n",
    "\n",
    "# Function to return all uncommon words\n",
    "def UncommonWords(A, B):\n",
    "\n",
    "\t# count will contain all the word counts\n",
    "\tcount = {}\n",
    "\t\n",
    "\t# insert words of string A to hash\n",
    "\tfor word in A.split():\n",
    "\t\tcount[word] = count.get(word, 0) + 1\n",
    "\t\n",
    "\t# insert words of string B to hash\n",
    "\tfor word in B.split():\n",
    "\t\tcount[word] = count.get(word, 0) + 1\n",
    "\n",
    "\t# return required list of words\n",
    "\treturn [word for word in count if count[word] == 1]\n",
    "\n",
    "# Driver Code\n",
    "A = \"Geeks for Geeks\"\n",
    "B = \"Learning from Geeks for Geeks\"\n",
    "\n",
    "# Print required answer\n",
    "print(UncommonWords(A, B))\n"
   ]
  },
  {
   "cell_type": "code",
   "execution_count": 5,
   "id": "614958dc",
   "metadata": {},
   "outputs": [
    {
     "name": "stdout",
     "output_type": "stream",
     "text": [
      "[1, 2, 4, 6]\n"
     ]
    }
   ],
   "source": [
    "list_1 = [1, 2, 1, 4, 6]\n",
    "\n",
    "print(list(set(list_1)))"
   ]
  },
  {
   "cell_type": "code",
   "execution_count": 6,
   "id": "7a2a39c0",
   "metadata": {},
   "outputs": [
    {
     "name": "stdout",
     "output_type": "stream",
     "text": [
      "Search successful.\n"
     ]
    }
   ],
   "source": [
    "import re\n",
    "\n",
    "pattern = '^a...s$'\n",
    "test_string = 'abyss'\n",
    "result = re.match(pattern, test_string)\n",
    "\n",
    "if result:\n",
    "  print(\"Search successful.\")\n",
    "else:\n",
    "  print(\"Search unsuccessful.\")\t\n"
   ]
  },
  {
   "cell_type": "code",
   "execution_count": 7,
   "id": "0db71e35",
   "metadata": {},
   "outputs": [
    {
     "name": "stdout",
     "output_type": "stream",
     "text": [
      "xoxo love xoxo\n",
      "lov\n",
      "  xoxo love xoxo   \n",
      "droid is awesome\n"
     ]
    }
   ],
   "source": [
    "string = '  xoxo love xoxo   '\n",
    "\n",
    "# Leading and trailing whitespaces are removed\n",
    "print(string.strip())\n",
    "\n",
    "# All <whitespace>,x,o,e characters in the left\n",
    "# and right of string are removed\n",
    "print(string.strip(' xoe'))\n",
    "\n",
    "# Argument doesn't contain space\n",
    "# No characters are removed.\n",
    "print(string.strip('stx'))\n",
    "\n",
    "string = 'android is awesome'\n",
    "print(string.strip('an'))"
   ]
  },
  {
   "cell_type": "code",
   "execution_count": null,
   "id": "3327ff6c",
   "metadata": {},
   "outputs": [],
   "source": []
  }
 ],
 "metadata": {
  "kernelspec": {
   "display_name": "Python 3 (ipykernel)",
   "language": "python",
   "name": "python3"
  },
  "language_info": {
   "codemirror_mode": {
    "name": "ipython",
    "version": 3
   },
   "file_extension": ".py",
   "mimetype": "text/x-python",
   "name": "python",
   "nbconvert_exporter": "python",
   "pygments_lexer": "ipython3",
   "version": "3.9.7"
  }
 },
 "nbformat": 4,
 "nbformat_minor": 5
}
