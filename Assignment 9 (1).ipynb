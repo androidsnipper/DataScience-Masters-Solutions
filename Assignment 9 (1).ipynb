{
 "cells": [
  {
   "cell_type": "markdown",
   "id": "bc0aadcd",
   "metadata": {},
   "source": [
    "A relative path refers to a location that is relative to a current directory. Relative paths make use of two special symbols, a dot (.) ... The current directory is sometimes referred to as the root directory."
   ]
  },
  {
   "cell_type": "markdown",
   "id": "bb4c4732",
   "metadata": {},
   "source": [
    "An absolute path refers to the complete details needed to locate a file or folder, starting from the root element and ending with the other subdirectories. Absolute paths are used in websites and operating systems for locating files and folders.\n",
    "\n",
    "An absolute path is also known as an absolute pathname or full path."
   ]
  },
  {
   "cell_type": "markdown",
   "id": "c486ef22",
   "metadata": {},
   "source": [
    "Using os.getcwd() method to get current working directory\n",
    "os.chdir() method in Python used to change the current working directory to specified path. "
   ]
  },
  {
   "cell_type": "markdown",
   "id": "090e7194",
   "metadata": {},
   "source": [
    "The access modes available for the open() function are as follows:\n",
    "\n",
    "r: Opens the file in read-only mode. Starts reading from the beginning of the file and is the default mode for the open() function.\n",
    "rb: Opens the file as read-only in binary format and starts reading from the beginning of the file. While binary format can be used for different purposes, it is usually used when dealing with things like images, videos, etc.\n",
    "r+: Opens a file for reading and writing, placing the pointer at the beginning of the file.\n",
    "w: Opens in write-only mode. The pointer is placed at the beginning of the file and this will overwrite any existing file with the same name. It will create a new file if one with the same name doesn't exist.\n",
    "wb: Opens a write-only file in binary mode.\n",
    "w+: Opens a file for writing and reading.\n",
    "wb+: Opens a file for writing and reading in binary mode.\n",
    "a: Opens a file for appending new information to it. The pointer is placed at the end of the file. A new file is created if one with the same name doesn't exist.\n",
    "ab: Opens a file for appending in binary mode.\n",
    "a+: Opens a file for both appending and reading.\n",
    "ab+: Opens a file for both appending and reading in binary mode."
   ]
  },
  {
   "cell_type": "markdown",
   "id": "87734a9e",
   "metadata": {},
   "source": [
    "The only difference between the Read() and ReadLine() is that Console.Read is used to read only single character from the standard output device, while Console.ReadLine is used to read a line or string from the standard output device."
   ]
  },
  {
   "cell_type": "markdown",
   "id": "a9bd089b",
   "metadata": {},
   "source": [
    "A shelf value resembles a dictionary value; it has keys and values, along with keys() and values() methods that work similarly to the dictionary methods of the same names."
   ]
  },
  {
   "cell_type": "markdown",
   "id": "4c640c54",
   "metadata": {},
   "source": [
    ". current folder\n",
    ".. previous folder"
   ]
  },
  {
   "cell_type": "markdown",
   "id": "a506717a",
   "metadata": {},
   "source": [
    "C:\\bacon\\eggs\\spam.txt,\n",
    "base path = spam.txt"
   ]
  },
  {
   "cell_type": "code",
   "execution_count": null,
   "id": "c0268d17",
   "metadata": {},
   "outputs": [],
   "source": []
  }
 ],
 "metadata": {
  "kernelspec": {
   "display_name": "Python 3 (ipykernel)",
   "language": "python",
   "name": "python3"
  },
  "language_info": {
   "codemirror_mode": {
    "name": "ipython",
    "version": 3
   },
   "file_extension": ".py",
   "mimetype": "text/x-python",
   "name": "python",
   "nbconvert_exporter": "python",
   "pygments_lexer": "ipython3",
   "version": "3.9.7"
  }
 },
 "nbformat": 4,
 "nbformat_minor": 5
}
