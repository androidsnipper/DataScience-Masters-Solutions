{
 "cells": [
  {
   "cell_type": "markdown",
   "id": "65a9a377",
   "metadata": {},
   "source": [
    "CSV is a plain text format with a series of values separated by commas whereas Excel is a binary file that holds information about all the worksheets in a workbook. CSV file can't perform operations on data while Excel can perform operations on the data"
   ]
  },
  {
   "cell_type": "markdown",
   "id": "2fb8a699",
   "metadata": {},
   "source": [
    "with open(filename, 'r') as csvfile:\n",
    "    csvreader = csv.reader(csvfile)\n",
    "Here, we first open the CSV file in READ mode. The file object is named as csvfile. The file object is converted to csv.reader object. We save the csv.reader object as csvreader.\n",
    "\n",
    "fields = csvreader.next()\n",
    "csvreader is an iterable object. Hence, .next() method returns the current row and advances the iterator to the next row. Since the first row of our csv file contains the headers (or field names), we save them in a list called fields."
   ]
  },
  {
   "cell_type": "markdown",
   "id": "03659337",
   "metadata": {},
   "source": [
    "Mode\tDescription\n",
    "‘r’\tOpen a file for reading. (default)\n",
    "‘w’\tOpen a file for writing. Creates a new file if it does not exist or truncates the file if it exists.\n",
    "‘x’\tOpen a file for exclusive creation. If the file already exists, the operation fails.\n",
    "‘a’\tOpen for appending at the end of the file without truncating it. Creates a new file if it does not exist.\n",
    "‘t’\tOpen in text mode. (default)\n",
    "‘b’\tOpen in binary mode.\n",
    "‘+’\tOpen a file for updating (reading and writing)"
   ]
  },
  {
   "cell_type": "markdown",
   "id": "884e6622",
   "metadata": {},
   "source": [
    "A CSV file is a bounded text format which uses a comma to separate values. The most common method to write data from a list to CSV file is the writerow() method of writer and DictWriter class."
   ]
  },
  {
   "cell_type": "markdown",
   "id": "65dc81bc",
   "metadata": {},
   "source": [
    "The line terminator is the character that comes at the end of a row. By default, the line terminator is a newline. You can change characters to different values by using the delimiter and lineterminator keyword arguments with csv. writer()"
   ]
  },
  {
   "cell_type": "markdown",
   "id": "0348ebb1",
   "metadata": {},
   "source": [
    "The methods are called serialization and deserialization of json. What you are asking about is called Deserialization."
   ]
  },
  {
   "cell_type": "markdown",
   "id": "563cf824",
   "metadata": {},
   "source": [
    "loads() method return Python data structure of JSON string or data"
   ]
  },
  {
   "cell_type": "code",
   "execution_count": null,
   "id": "88a2ee31",
   "metadata": {},
   "outputs": [],
   "source": []
  }
 ],
 "metadata": {
  "kernelspec": {
   "display_name": "Python 3 (ipykernel)",
   "language": "python",
   "name": "python3"
  },
  "language_info": {
   "codemirror_mode": {
    "name": "ipython",
    "version": 3
   },
   "file_extension": ".py",
   "mimetype": "text/x-python",
   "name": "python",
   "nbconvert_exporter": "python",
   "pygments_lexer": "ipython3",
   "version": "3.9.7"
  }
 },
 "nbformat": 4,
 "nbformat_minor": 5
}
