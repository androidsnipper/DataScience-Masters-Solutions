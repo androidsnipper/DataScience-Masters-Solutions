{
 "cells": [
  {
   "cell_type": "code",
   "execution_count": 1,
   "id": "407d48bb",
   "metadata": {},
   "outputs": [
    {
     "name": "stdout",
     "output_type": "stream",
     "text": [
      "[1980, 1981, 1982, 1983, 1984, 1985]\n",
      "Mozzarella\n",
      "Chi derella\n",
      "Salmonella\n",
      "['mozzarella', 'chi derella', 'salmonella']\n"
     ]
    }
   ],
   "source": [
    "# 3.1\n",
    "years_list = [x for x in range(1980,1980+6)]\n",
    "print (years_list)\n",
    "# 3.2\n",
    "years_list[3]\n",
    "\n",
    "# 3.3\n",
    "max(years_list)\n",
    "\n",
    "# 3.4\n",
    "things = ['mozzarella', 'chi derella', 'salmonella']\n",
    "# 3.5\n",
    "for i in things:\n",
    "    print(i.capitalize())\n",
    "print (things)"
   ]
  },
  {
   "cell_type": "code",
   "execution_count": 8,
   "id": "48cf1288",
   "metadata": {},
   "outputs": [
    {
     "name": "stdout",
     "output_type": "stream",
     "text": [
      "MOZZARELLA\n",
      "CHI DERELLA\n",
      "SALMONELLA\n",
      "{'chi derella', 'salmonella', 'mozzarella'}\n",
      "{'chien': 'dog', 'chat': 'cat', 'morse': 'walrus'}\n"
     ]
    },
    {
     "data": {
      "text/plain": [
       "['Henri', 'Grumpy', 'Lucy']"
      ]
     },
     "execution_count": 8,
     "metadata": {},
     "output_type": "execute_result"
    }
   ],
   "source": [
    "for i in things:\n",
    "    print(i.upper())\n",
    "\n",
    "# 3.7\n",
    "nobel_prize = set(things)\n",
    "print(nobel_prize)\n",
    "{'mozzarella', 'chi derella', 'salmonella'}\n",
    "# 3.8\n",
    "surprise = ['Groucho', 'Chico', 'Harpo']\n",
    "# 3.9\n",
    "s = surprise[-1].lower()\n",
    "s[::-1] \n",
    "s.capitalize()\n",
    "\n",
    "# 3.10\n",
    "e2f = {'dog':'chien', 'cat':'chat', 'walrus':'morse'}\n",
    "# 3.11\n",
    "e2f['walrus']\n",
    "\n",
    "# 3.12\n",
    "f2e = dict((k,v) for v,k in e2f.items())\n",
    "print (f2e)\n",
    "{'chat': 'cat', 'morse': 'walrus', 'chien': 'dog'}\n",
    "# 3.13\n",
    "f2e['chien']\n",
    "\n",
    "# 3.14\n",
    "e2f.keys()\n",
    "# 3.15\n",
    "animal ={'cats':['Henri','Grumpy','Lucy'],'octopi':'','emus':''}\n",
    "life ={'animal':animal,'plants':'','other':''}\n",
    "# 3.16\n",
    "life.keys()\n",
    "# 3.17\n",
    "life['animal'].keys()\n",
    "# 3.18\n",
    "life['animal']['cats']"
   ]
  },
  {
   "cell_type": "code",
   "execution_count": null,
   "id": "96f6f629",
   "metadata": {},
   "outputs": [],
   "source": []
  }
 ],
 "metadata": {
  "kernelspec": {
   "display_name": "Python 3 (ipykernel)",
   "language": "python",
   "name": "python3"
  },
  "language_info": {
   "codemirror_mode": {
    "name": "ipython",
    "version": 3
   },
   "file_extension": ".py",
   "mimetype": "text/x-python",
   "name": "python",
   "nbconvert_exporter": "python",
   "pygments_lexer": "ipython3",
   "version": "3.9.7"
  }
 },
 "nbformat": 4,
 "nbformat_minor": 5
}
