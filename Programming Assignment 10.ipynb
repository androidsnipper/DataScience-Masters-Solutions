{
 "cells": [
  {
   "cell_type": "code",
   "execution_count": 1,
   "id": "7532a76e",
   "metadata": {},
   "outputs": [
    {
     "name": "stdout",
     "output_type": "stream",
     "text": [
      "339\n"
     ]
    }
   ],
   "source": [
    "marks = [65, 71, 68, 74, 61]\n",
    "\n",
    "# find sum of all marks\n",
    "total_marks = sum(marks)\n",
    "print(total_marks)\n",
    "\n",
    "# Output: 339"
   ]
  },
  {
   "cell_type": "code",
   "execution_count": 2,
   "id": "dd24a861",
   "metadata": {},
   "outputs": [
    {
     "name": "stdout",
     "output_type": "stream",
     "text": [
      "12 x 1 = 12\n",
      "12 x 2 = 24\n",
      "12 x 3 = 36\n",
      "12 x 4 = 48\n",
      "12 x 5 = 60\n",
      "12 x 6 = 72\n",
      "12 x 7 = 84\n",
      "12 x 8 = 96\n",
      "12 x 9 = 108\n",
      "12 x 10 = 120\n"
     ]
    }
   ],
   "source": [
    "# Multiplication table (from 1 to 10) in Python\n",
    "\n",
    "num = 12\n",
    "\n",
    "# To take input from the user\n",
    "# num = int(input(\"Display multiplication table of? \"))\n",
    "\n",
    "# Iterate 10 times from i = 1 to 10\n",
    "for i in range(1, 11):\n",
    "   print(num, 'x', i, '=', num*i)\n"
   ]
  },
  {
   "cell_type": "code",
   "execution_count": 3,
   "id": "cf65c527",
   "metadata": {},
   "outputs": [
    {
     "name": "stdout",
     "output_type": "stream",
     "text": [
      "-4\n"
     ]
    }
   ],
   "source": [
    "numbers = [9, 34, 11, -4, 27]\n",
    "\n",
    "# find the smallest number\n",
    "min_number = min(numbers)\n",
    "print(min_number)\n",
    "\n",
    "# Output: -4"
   ]
  },
  {
   "cell_type": "code",
   "execution_count": 4,
   "id": "111eb4cc",
   "metadata": {},
   "outputs": [
    {
     "name": "stdout",
     "output_type": "stream",
     "text": [
      "34\n"
     ]
    }
   ],
   "source": [
    "numbers = [9, 34, 11, -4, 27]\n",
    "\n",
    "# find the smallest number\n",
    "min_number = max(numbers)\n",
    "print(min_number)\n",
    "\n",
    "# Output: -4"
   ]
  },
  {
   "cell_type": "code",
   "execution_count": 5,
   "id": "a2fa55a6",
   "metadata": {},
   "outputs": [
    {
     "name": "stdout",
     "output_type": "stream",
     "text": [
      "Second largest element in the list is: 32\n"
     ]
    }
   ],
   "source": [
    "list1 = [11,22,1,2,5,67,21,32]\n",
    "# using built-in sort method\n",
    "list1.sort()\n",
    "# second last element\n",
    "print(\"Second largest element in the list is:\", list1[-2])"
   ]
  },
  {
   "cell_type": "code",
   "execution_count": 6,
   "id": "ac443e7d",
   "metadata": {},
   "outputs": [
    {
     "name": "stdout",
     "output_type": "stream",
     "text": [
      "[85, 41]\n"
     ]
    }
   ],
   "source": [
    "# Python program to find N largest\n",
    "# element from given list of integers\n",
    "\n",
    "# Function returns N largest elements\n",
    "def Nmaxelements(list1, N):\n",
    "\tfinal_list = []\n",
    "\n",
    "\tfor i in range(0, N):\n",
    "\t\tmax1 = 0\n",
    "\t\t\n",
    "\t\tfor j in range(len(list1)):\t\n",
    "\t\t\tif list1[j] > max1:\n",
    "\t\t\t\tmax1 = list1[j];\n",
    "\t\t\t\t\n",
    "\t\tlist1.remove(max1);\n",
    "\t\tfinal_list.append(max1)\n",
    "\t\t\n",
    "\tprint(final_list)\n",
    "\n",
    "# Driver code\n",
    "list1 = [2, 6, 41, 85, 0, 3, 7, 6, 10]\n",
    "N = 2\n",
    "\n",
    "# Calling the function\n",
    "Nmaxelements(list1, N)\n"
   ]
  },
  {
   "cell_type": "code",
   "execution_count": 8,
   "id": "74cdbb36",
   "metadata": {},
   "outputs": [
    {
     "name": "stdout",
     "output_type": "stream",
     "text": [
      "Enter a number: 34\n",
      "34 is Even\n"
     ]
    }
   ],
   "source": [
    "# Python program to check if the input number is odd or even.\n",
    "# A number is even if division by 2 gives a remainder of 0.\n",
    "# If the remainder is 1, it is an odd number.\n",
    "\n",
    "num = int(input(\"Enter a number: \"))\n",
    "if (num % 2) == 0:\n",
    "   print(\"{0} is Even\".format(num))\n",
    "else:\n",
    "   print(\"{0} is Odd\".format(num))"
   ]
  },
  {
   "cell_type": "code",
   "execution_count": 9,
   "id": "d5675516",
   "metadata": {},
   "outputs": [
    {
     "name": "stdout",
     "output_type": "stream",
     "text": [
      "Enter a number: 13\n",
      "13 is Odd\n"
     ]
    }
   ],
   "source": [
    "# Python program to check if the input number is odd or even.\n",
    "# A number is even if division by 2 gives a remainder of 0.\n",
    "# If the remainder is 1, it is an odd number.\n",
    "\n",
    "num = int(input(\"Enter a number: \"))\n",
    "if (num % 2) == 0:\n",
    "   print(\"{0} is Even\".format(num))\n",
    "else:\n",
    "   print(\"{0} is Odd\".format(num))"
   ]
  },
  {
   "cell_type": "code",
   "execution_count": 10,
   "id": "0986dbc0",
   "metadata": {},
   "outputs": [],
   "source": [
    "list1 = [[], [], [], [], [], 'text', 'text2', [], 'moreText']\n",
    "list2 = [e for e in list1 if e]"
   ]
  },
  {
   "cell_type": "code",
   "execution_count": 11,
   "id": "83b87d4b",
   "metadata": {},
   "outputs": [
    {
     "name": "stdout",
     "output_type": "stream",
     "text": [
      "Copied List: [2, 3, 5]\n"
     ]
    }
   ],
   "source": [
    "# mixed list\n",
    "prime_numbers = [2, 3, 5]\n",
    "\n",
    "# copying a list\n",
    "numbers = prime_numbers.copy()\n",
    "\n",
    "\n",
    "print('Copied List:', numbers)\n",
    "\n",
    "# Output: Copied List: [2, 3, 5]"
   ]
  },
  {
   "cell_type": "code",
   "execution_count": 12,
   "id": "2ab858bc",
   "metadata": {},
   "outputs": [
    {
     "name": "stdout",
     "output_type": "stream",
     "text": [
      "Count of 2: 3\n"
     ]
    }
   ],
   "source": [
    "# create a list\n",
    "numbers = [2, 3, 5, 2, 11, 2, 7]\n",
    "\n",
    "# check the count of 2\n",
    "count = numbers.count(2)\n",
    "\n",
    "\n",
    "print('Count of 2:', count)\n",
    "\n",
    "# Output: Count of 2: 3"
   ]
  },
  {
   "cell_type": "code",
   "execution_count": null,
   "id": "1cf3aded",
   "metadata": {},
   "outputs": [],
   "source": []
  }
 ],
 "metadata": {
  "kernelspec": {
   "display_name": "Python 3 (ipykernel)",
   "language": "python",
   "name": "python3"
  },
  "language_info": {
   "codemirror_mode": {
    "name": "ipython",
    "version": 3
   },
   "file_extension": ".py",
   "mimetype": "text/x-python",
   "name": "python",
   "nbconvert_exporter": "python",
   "pygments_lexer": "ipython3",
   "version": "3.9.7"
  }
 },
 "nbformat": 4,
 "nbformat_minor": 5
}
