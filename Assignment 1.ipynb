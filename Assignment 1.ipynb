{
 "cells": [
  {
   "cell_type": "markdown",
   "id": "e500dfe4",
   "metadata": {},
   "source": [
    "## 1\n",
    "\n",
    "1- exp\n",
    "2-value\n",
    "3-value\n",
    "4-exp\n",
    "5-exp\n",
    "6-value\n"
   ]
  },
  {
   "cell_type": "markdown",
   "id": "adbe594b",
   "metadata": {},
   "source": [
    "A string is a type of variable. Variables can be of several types like integer, floating point, string, boolean.\n",
    "\n",
    "A simple example would be:\n",
    "\n",
    "a = 1 \n",
    "name = \"Bob\" \n",
    "rich = True "
   ]
  },
  {
   "cell_type": "markdown",
   "id": "bba348bd",
   "metadata": {},
   "source": [
    "### 3-\n",
    "Numeric\n",
    "In Python, numeric data type represent the data which has numeric value. Numeric value can be integer, floating number or even complex numbers. These values are defined as int, float and complex class in Python.\n",
    "\n",
    "Integers – This value is represented by int class. It contains positive or negative whole numbers (without fraction or decimal). In Python there is no limit to how long an integer value can be.\n",
    "Float – This value is represented by float class. It is a real number with floating point representation. It is specified by a decimal point. Optionally, the character e or E followed by a positive or negative integer may be appended to specify scientific notation.\n",
    "\n",
    "In Python, Strings are arrays of bytes representing Unicode characters. A string is a collection of one or more characters put in a single quote, double-quote or triple quote. In python there is no character data type, a character is a string of length one.\n",
    "\n",
    "Lists are just like the arrays, declared in other languages which is a ordered collection of data."
   ]
  },
  {
   "cell_type": "markdown",
   "id": "f28b6051",
   "metadata": {},
   "source": [
    "### 4-\n",
    "An expression is a combination of values, variables, operators, and calls to functions. Expressions need to be evaluated. If you ask Python to print an expression, the interpreter evaluates the expression and displays the result\n",
    "\n"
   ]
  },
  {
   "cell_type": "markdown",
   "id": "8bf0e31e",
   "metadata": {},
   "source": [
    "### 5-\n",
    "In programming language terminology, an “expression” is a combination of values and functions that are combined and interpreted by the compiler to create a new value, as opposed to a “statement” which is just a standalone unit of execution and doesn't return anything.\n"
   ]
  },
  {
   "cell_type": "code",
   "execution_count": 2,
   "id": "d081defb",
   "metadata": {},
   "outputs": [
    {
     "data": {
      "text/plain": [
       "23"
      ]
     },
     "execution_count": 2,
     "metadata": {},
     "output_type": "execute_result"
    }
   ],
   "source": [
    "bacon = 22\n",
    "bacon + 1"
   ]
  },
  {
   "cell_type": "code",
   "execution_count": 3,
   "id": "c989ea25",
   "metadata": {},
   "outputs": [
    {
     "data": {
      "text/plain": [
       "22"
      ]
     },
     "execution_count": 3,
     "metadata": {},
     "output_type": "execute_result"
    }
   ],
   "source": [
    "bacon"
   ]
  },
  {
   "cell_type": "code",
   "execution_count": 7,
   "id": "d0ab5577",
   "metadata": {},
   "outputs": [
    {
     "data": {
      "text/plain": [
       "'spamspamspam'"
      ]
     },
     "execution_count": 7,
     "metadata": {},
     "output_type": "execute_result"
    }
   ],
   "source": [
    "'spam' + 'spamspam'\n"
   ]
  },
  {
   "cell_type": "code",
   "execution_count": 6,
   "id": "ca5c7786",
   "metadata": {},
   "outputs": [
    {
     "data": {
      "text/plain": [
       "'spamspamspam'"
      ]
     },
     "execution_count": 6,
     "metadata": {},
     "output_type": "execute_result"
    }
   ],
   "source": [
    "'spam' * 3"
   ]
  },
  {
   "cell_type": "markdown",
   "id": "718967e9",
   "metadata": {},
   "source": [
    "### 8\n",
    "A variable name must start with a letter or an underscore character (_)\n",
    "A variable name cannot start with a digit\n",
    "A variable name can only contain alpha-numeric characters and underscores (a-z, A-Z, 0-9, and _ )\n",
    "Variable names are case-sensitive (age, Age and AGE are three different variables)\n",
    "There is no limit on the length of the variable name\n",
    "A variable name cannot contain spaces"
   ]
  },
  {
   "cell_type": "markdown",
   "id": "73095ae4",
   "metadata": {},
   "source": [
    "### 9\n",
    "The int() , float() , and str( ) functions will evaluate to the integer, floating-point number, and string versions of the value passed to them."
   ]
  },
  {
   "cell_type": "code",
   "execution_count": 8,
   "id": "836ec1bb",
   "metadata": {},
   "outputs": [
    {
     "ename": "TypeError",
     "evalue": "can only concatenate str (not \"int\") to str",
     "output_type": "error",
     "traceback": [
      "\u001b[1;31m---------------------------------------------------------------------------\u001b[0m",
      "\u001b[1;31mTypeError\u001b[0m                                 Traceback (most recent call last)",
      "\u001b[1;32m~\\AppData\\Local\\Temp/ipykernel_6484/3116421743.py\u001b[0m in \u001b[0;36m<module>\u001b[1;34m\u001b[0m\n\u001b[1;32m----> 1\u001b[1;33m \u001b[1;34m'I have eaten'\u001b[0m \u001b[1;33m+\u001b[0m \u001b[1;36m99\u001b[0m \u001b[1;33m+\u001b[0m \u001b[1;34m'burritos.'\u001b[0m\u001b[1;33m\u001b[0m\u001b[1;33m\u001b[0m\u001b[0m\n\u001b[0m",
      "\u001b[1;31mTypeError\u001b[0m: can only concatenate str (not \"int\") to str"
     ]
    }
   ],
   "source": [
    "'I have eaten' + 99 + 'burritos.'"
   ]
  },
  {
   "cell_type": "markdown",
   "id": "5016ff28",
   "metadata": {},
   "source": [
    "### 10- issue is with number concatenationw witha  string variable"
   ]
  },
  {
   "cell_type": "code",
   "execution_count": null,
   "id": "7477636b",
   "metadata": {},
   "outputs": [],
   "source": []
  }
 ],
 "metadata": {
  "kernelspec": {
   "display_name": "Python 3 (ipykernel)",
   "language": "python",
   "name": "python3"
  },
  "language_info": {
   "codemirror_mode": {
    "name": "ipython",
    "version": 3
   },
   "file_extension": ".py",
   "mimetype": "text/x-python",
   "name": "python",
   "nbconvert_exporter": "python",
   "pygments_lexer": "ipython3",
   "version": "3.9.7"
  }
 },
 "nbformat": 4,
 "nbformat_minor": 5
}
